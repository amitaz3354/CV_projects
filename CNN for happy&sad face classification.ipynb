{
 "cells": [
  {
   "cell_type": "code",
   "execution_count": 6,
   "metadata": {},
   "outputs": [],
   "source": [
    "from keras.models import Sequential\n",
    "from keras.layers import Convolution2D\n",
    "from keras.layers import MaxPooling2D\n",
    "from keras.layers import Flatten\n",
    "from keras.layers import Dense\n",
    "from keras import backend as K\n",
    "K.set_image_dim_ordering('tf')"
   ]
  },
  {
   "cell_type": "code",
   "execution_count": 7,
   "metadata": {},
   "outputs": [
    {
     "name": "stderr",
     "output_type": "stream",
     "text": [
      "C:\\Users\\Amit Aizenkot Moyal\\AppData\\Local\\Continuum\\anaconda3\\lib\\site-packages\\ipykernel_launcher.py:6: UserWarning: Update your `Dense` call to the Keras 2 API: `Dense(activation=\"relu\", units=128)`\n",
      "  \n",
      "C:\\Users\\Amit Aizenkot Moyal\\AppData\\Local\\Continuum\\anaconda3\\lib\\site-packages\\ipykernel_launcher.py:7: UserWarning: Update your `Dense` call to the Keras 2 API: `Dense(activation=\"sigmoid\", units=1)`\n",
      "  import sys\n"
     ]
    }
   ],
   "source": [
    "classifier = Sequential()\n",
    "\n",
    "classifier.add(Convolution2D(32, (3, 3), input_shape = (64, 64, 3), activation = 'relu'))\n",
    "classifier.add(MaxPooling2D(pool_size = (2, 2)))\n",
    "classifier.add(Flatten())\n",
    "classifier.add(Dense(output_dim = 128, activation = 'relu'))\n",
    "classifier.add(Dense(output_dim = 1, activation = 'sigmoid'))\n",
    "classifier.compile(optimizer='adam',loss = 'binary_crossentropy',metrics=['accuracy'])\n"
   ]
  },
  {
   "cell_type": "code",
   "execution_count": 8,
   "metadata": {},
   "outputs": [
    {
     "name": "stdout",
     "output_type": "stream",
     "text": [
      "Found 240 images belonging to 2 classes.\n",
      "Found 70 images belonging to 2 classes.\n"
     ]
    }
   ],
   "source": [
    "from keras.preprocessing.image import ImageDataGenerator\n",
    "\n",
    "train_datagen = ImageDataGenerator(rescale = 1./255,\n",
    "                                   shear_range = 0.2,\n",
    "                                   zoom_range = 0.2,\n",
    "                                   horizontal_flip = True)\n",
    "\n",
    "test_datagen = ImageDataGenerator(rescale = 1./255)\n",
    "\n",
    "training_set = train_datagen.flow_from_directory('training',  \n",
    "                                                 target_size = (64, 64),\n",
    "                                                 batch_size = 32,\n",
    "                                                 class_mode = 'binary')\n",
    "\n",
    "test_set = test_datagen.flow_from_directory('test',\n",
    "                                            target_size = (64, 64),\n",
    "                                            batch_size = 32,\n",
    "                                            class_mode = 'binary')\n"
   ]
  },
  {
   "cell_type": "code",
   "execution_count": 9,
   "metadata": {},
   "outputs": [
    {
     "name": "stdout",
     "output_type": "stream",
     "text": [
      "Epoch 1/25\n",
      "240/240 [==============================] - 151s 629ms/step - loss: 0.5735 - acc: 0.7083 - val_loss: 0.5745 - val_acc: 0.6157\n",
      "Epoch 2/25\n",
      "240/240 [==============================] - 143s 596ms/step - loss: 0.2510 - acc: 0.9082 - val_loss: 0.3892 - val_acc: 0.7856\n",
      "Epoch 3/25\n",
      "240/240 [==============================] - 138s 576ms/step - loss: 0.1355 - acc: 0.9539 - val_loss: 0.3919 - val_acc: 0.7853\n",
      "Epoch 4/25\n",
      "240/240 [==============================] - 163s 681ms/step - loss: 0.0989 - acc: 0.9641 - val_loss: 0.2499 - val_acc: 0.8855\n",
      "Epoch 5/25\n",
      "240/240 [==============================] - 178s 742ms/step - loss: 0.0836 - acc: 0.9667 - val_loss: 0.3236 - val_acc: 0.8429\n",
      "Epoch 6/25\n",
      "240/240 [==============================] - 140s 581ms/step - loss: 0.0558 - acc: 0.9803 - val_loss: 1.1874 - val_acc: 0.5155\n",
      "Epoch 7/25\n",
      "240/240 [==============================] - 147s 611ms/step - loss: 0.0504 - acc: 0.9823 - val_loss: 1.2277 - val_acc: 0.5146\n",
      "Epoch 8/25\n",
      "240/240 [==============================] - 118s 493ms/step - loss: 0.0405 - acc: 0.9865 - val_loss: 0.6466 - val_acc: 0.7284\n",
      "Epoch 9/25\n",
      "240/240 [==============================] - 113s 470ms/step - loss: 0.0336 - acc: 0.9891 - val_loss: 0.6845 - val_acc: 0.7290\n",
      "Epoch 10/25\n",
      "240/240 [==============================] - 113s 470ms/step - loss: 0.0260 - acc: 0.9906 - val_loss: 0.7304 - val_acc: 0.7412\n",
      "Epoch 11/25\n",
      "240/240 [==============================] - 112s 468ms/step - loss: 0.0198 - acc: 0.9934 - val_loss: 0.6359 - val_acc: 0.8149\n",
      "Epoch 12/25\n",
      "240/240 [==============================] - 108s 450ms/step - loss: 0.0182 - acc: 0.9951 - val_loss: 0.6176 - val_acc: 0.8292\n",
      "Epoch 13/25\n",
      "240/240 [==============================] - 106s 444ms/step - loss: 0.0143 - acc: 0.9961 - val_loss: 0.5154 - val_acc: 0.8289\n",
      "Epoch 14/25\n",
      "240/240 [==============================] - 111s 461ms/step - loss: 0.0251 - acc: 0.9909 - val_loss: 0.7606 - val_acc: 0.7582\n",
      "Epoch 15/25\n",
      "240/240 [==============================] - 111s 464ms/step - loss: 0.0112 - acc: 0.9965 - val_loss: 0.6995 - val_acc: 0.7995\n",
      "Epoch 16/25\n",
      "240/240 [==============================] - 113s 471ms/step - loss: 0.0059 - acc: 0.9987 - val_loss: 0.6892 - val_acc: 0.8002\n",
      "Epoch 17/25\n",
      "240/240 [==============================] - 111s 461ms/step - loss: 0.0068 - acc: 0.9987 - val_loss: 0.8832 - val_acc: 0.7722\n",
      "Epoch 18/25\n",
      "240/240 [==============================] - 112s 466ms/step - loss: 0.0099 - acc: 0.9966 - val_loss: 2.6947 - val_acc: 0.5000\n",
      "Epoch 19/25\n",
      "240/240 [==============================] - 115s 479ms/step - loss: 0.0202 - acc: 0.9926 - val_loss: 0.8464 - val_acc: 0.8155\n",
      "Epoch 20/25\n",
      "240/240 [==============================] - 114s 477ms/step - loss: 0.0073 - acc: 0.9978 - val_loss: 1.3727 - val_acc: 0.6273\n",
      "Epoch 21/25\n",
      "240/240 [==============================] - 113s 473ms/step - loss: 0.0063 - acc: 0.9977 - val_loss: 0.8924 - val_acc: 0.7859\n",
      "Epoch 22/25\n",
      "240/240 [==============================] - 115s 479ms/step - loss: 0.0015 - acc: 0.9999 - val_loss: 0.6111 - val_acc: 0.8289\n",
      "Epoch 23/25\n",
      "240/240 [==============================] - 114s 475ms/step - loss: 0.0012 - acc: 0.9999 - val_loss: 1.2911 - val_acc: 0.6717\n",
      "Epoch 24/25\n",
      "240/240 [==============================] - 109s 454ms/step - loss: 0.0062 - acc: 0.9978 - val_loss: 0.6615 - val_acc: 0.8286\n",
      "Epoch 25/25\n",
      "240/240 [==============================] - 108s 448ms/step - loss: 0.0063 - acc: 0.9984 - val_loss: 0.5949 - val_acc: 0.8283\n"
     ]
    },
    {
     "data": {
      "text/plain": [
       "<keras.callbacks.History at 0x21f21c03b00>"
      ]
     },
     "execution_count": 9,
     "metadata": {},
     "output_type": "execute_result"
    }
   ],
   "source": [
    "classifier.fit_generator(training_set,\n",
    "                         steps_per_epoch = 240,\n",
    "                         epochs = 25,\n",
    "                         validation_data = test_set,\n",
    "                         validation_steps = 70)"
   ]
  },
  {
   "cell_type": "code",
   "execution_count": null,
   "metadata": {},
   "outputs": [],
   "source": []
  },
  {
   "cell_type": "code",
   "execution_count": null,
   "metadata": {},
   "outputs": [],
   "source": []
  },
  {
   "cell_type": "code",
   "execution_count": null,
   "metadata": {},
   "outputs": [],
   "source": []
  },
  {
   "cell_type": "code",
   "execution_count": null,
   "metadata": {},
   "outputs": [],
   "source": []
  }
 ],
 "metadata": {
  "kernelspec": {
   "display_name": "Python 3",
   "language": "python",
   "name": "python3"
  },
  "language_info": {
   "codemirror_mode": {
    "name": "ipython",
    "version": 3
   },
   "file_extension": ".py",
   "mimetype": "text/x-python",
   "name": "python",
   "nbconvert_exporter": "python",
   "pygments_lexer": "ipython3",
   "version": "3.6.7"
  }
 },
 "nbformat": 4,
 "nbformat_minor": 2
}
